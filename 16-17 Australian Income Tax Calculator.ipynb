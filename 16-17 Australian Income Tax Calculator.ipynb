{
 "cells": [
  {
   "cell_type": "markdown",
   "metadata": {
    "collapsed": true
   },
   "source": [
    "# 16-17 Australian Income Tax Calculator"
   ]
  },
  {
   "cell_type": "markdown",
   "metadata": {},
   "source": [
    "A calculator that determines tax paid based on income"
   ]
  },
  {
   "cell_type": "code",
   "execution_count": 1,
   "metadata": {
    "collapsed": true
   },
   "outputs": [],
   "source": [
    "# 2016/17 australian income tax brackets and rates\n",
    "\n",
    "bracket1=18200\n",
    "bracket2=37000\n",
    "bracket3=87000\n",
    "bracket4=180000\n",
    "\n",
    "rate1=0.19\n",
    "rate2=0.325\n",
    "rate3=0.37\n",
    "rate4=0.45"
   ]
  },
  {
   "cell_type": "code",
   "execution_count": 2,
   "metadata": {
    "collapsed": false
   },
   "outputs": [
    {
     "name": "stdout",
     "output_type": "stream",
     "text": [
      "Enter taxable income: 123456\n"
     ]
    }
   ],
   "source": [
    "# user input\n",
    "\n",
    "x = int(input('Enter taxable income: '))"
   ]
  },
  {
   "cell_type": "code",
   "execution_count": 4,
   "metadata": {
    "collapsed": false
   },
   "outputs": [
    {
     "name": "stdout",
     "output_type": "stream",
     "text": [
      "Net income: \n",
      "90145.28\n",
      " \n",
      "Tax paid: \n",
      "33310.72\n",
      " \n",
      "Effective tax rate: \n",
      "0.2698185588387766\n"
     ]
    }
   ],
   "source": [
    "# function\n",
    "\n",
    "def inc_tax (x):\n",
    "    if x<=bracket1:\n",
    "        return 0\n",
    "    elif x<=bracket2:\n",
    "        return (x-bracket1)*rate1\n",
    "    elif x<=bracket3:\n",
    "        return (x-bracket2)*rate2+(bracket2-bracket1)*rate1\n",
    "    elif x<=bracket4:\n",
    "        return (x-bracket3)*rate3+(bracket3-bracket2)*rate2+(bracket2-bracket1)*rate1\n",
    "    elif x>bracket4:\n",
    "        return (x-bracket4)*rate4+(bracket4-bracket3)*rate3+(bracket3-bracket2)*rate2+(bracket2-bracket1)*rate1\n",
    "\n",
    "print('Net income: ')\n",
    "print(x-inc_tax(x))\n",
    "print(' ')\n",
    "print('Tax paid: ') \n",
    "print(inc_tax(x))\n",
    "print(' ')\n",
    "print('Effective tax rate: ')\n",
    "print(inc_tax(x)/x)"
   ]
  }
 ],
 "metadata": {
  "kernelspec": {
   "display_name": "Python 3",
   "language": "python",
   "name": "python3"
  },
  "language_info": {
   "codemirror_mode": {
    "name": "ipython",
    "version": 3
   },
   "file_extension": ".py",
   "mimetype": "text/x-python",
   "name": "python",
   "nbconvert_exporter": "python",
   "pygments_lexer": "ipython3",
   "version": "3.6.0"
  }
 },
 "nbformat": 4,
 "nbformat_minor": 2
}
