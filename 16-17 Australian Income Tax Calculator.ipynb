{
 "cells": [
  {
   "cell_type": "code",
   "execution_count": 50,
   "metadata": {
    "collapsed": true
   },
   "outputs": [],
   "source": [
    "# 2016/17 australian income tax brackets and rates\n",
    "\n",
    "bracket1=18200\n",
    "bracket2=37000\n",
    "bracket3=87000\n",
    "bracket4=180000\n",
    "\n",
    "rate1=0.19\n",
    "rate2=0.325\n",
    "rate3=0.37\n",
    "rate4=0.45"
   ]
  },
  {
   "cell_type": "code",
   "execution_count": 51,
   "metadata": {
    "collapsed": false
   },
   "outputs": [],
   "source": [
    "# function\n",
    "\n",
    "def inc_tax (x):\n",
    "    if x<=bracket1:\n",
    "        return 0\n",
    "    elif x<=bracket2:\n",
    "        return (x-bracket1)*rate1\n",
    "    elif x<=bracket3:\n",
    "        return (x-bracket2)*rate2+(bracket2-bracket1)*rate1\n",
    "    elif x<=bracket4:\n",
    "        return (x-bracket3)*rate3+(bracket3-bracket2)*rate2+(bracket2-bracket1)*rate1\n",
    "    elif x>bracket4:\n",
    "        return (x-bracket4)*rate4+(bracket4-bracket3)*rate3+(bracket3-bracket2)*rate2+(bracket2-bracket1)*rate1"
   ]
  }
 ],
 "metadata": {
  "kernelspec": {
   "display_name": "Python 3",
   "language": "python",
   "name": "python3"
  },
  "language_info": {
   "codemirror_mode": {
    "name": "ipython",
    "version": 3
   },
   "file_extension": ".py",
   "mimetype": "text/x-python",
   "name": "python",
   "nbconvert_exporter": "python",
   "pygments_lexer": "ipython3",
   "version": "3.6.0"
  }
 },
 "nbformat": 4,
 "nbformat_minor": 2
}
